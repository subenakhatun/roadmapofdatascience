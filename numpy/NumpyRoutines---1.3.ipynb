{
 "cells": [
  {
   "cell_type": "markdown",
   "metadata": {},
   "source": [
    "# ArrayCreationRoutines\n",
    "## Numericals range\n",
    "#### arange,linespace,logspace,geomspace,meshgrid,mgrid,ogrid"
   ]
  },
  {
   "cell_type": "code",
   "execution_count": 2,
   "metadata": {},
   "outputs": [],
   "source": [
    "import numpy as np"
   ]
  },
  {
   "cell_type": "code",
   "execution_count": 2,
   "metadata": {},
   "outputs": [
    {
     "name": "stdout",
     "output_type": "stream",
     "text": [
      "[0 1 2 3 4 5 6 7 8 9]\n"
     ]
    }
   ],
   "source": [
    "# Return evenly spaced values within a given interval.\n",
    "# numpy.arange([start, ]stop, [step, ]dtype=None)\n",
    "\n",
    "a = np.arange(10)\n",
    "print(a)"
   ]
  },
  {
   "cell_type": "code",
   "execution_count": 4,
   "metadata": {},
   "outputs": [
    {
     "name": "stdout",
     "output_type": "stream",
     "text": [
      "[ 1.  4.  7. 10. 13. 16. 19.]\n"
     ]
    }
   ],
   "source": [
    "a = np.arange(1,20,3,dtype=np.float)\n",
    "print(a)"
   ]
  },
  {
   "cell_type": "code",
   "execution_count": 14,
   "metadata": {},
   "outputs": [
    {
     "data": {
      "text/plain": [
       "array([1. , 1.9, 2.8, 3.7, 4.6, 5.5, 6.4, 7.3, 8.2, 9.1])"
      ]
     },
     "execution_count": 14,
     "metadata": {},
     "output_type": "execute_result"
    }
   ],
   "source": [
    "# numpy.linspace(start, stop, num=50, endpoint=True, retstep=False, dtype=None, axis=0)\n",
    "# Return evenly spaced numbers over a specified interval.\n",
    "# Returns num evenly spaced samples, calculated over the interval [start, stop].\n",
    "# The endpoint of the interval can optionally be excluded.\n",
    "# Changed in version 1.16.0: Non-scalar start and stop are now supported.\n",
    "\n",
    "np.linspace(1,10,num=10,endpoint=False) # false dile point er por value ashbe"
   ]
  },
  {
   "cell_type": "code",
   "execution_count": 16,
   "metadata": {},
   "outputs": [
    {
     "data": {
      "text/plain": [
       "array([ 1.,  2.,  3.,  4.,  5.,  6.,  7.,  8.,  9., 10.])"
      ]
     },
     "execution_count": 16,
     "metadata": {},
     "output_type": "execute_result"
    }
   ],
   "source": [
    "np.linspace(1,10,num=10,endpoint=True) # true dile point er por value ase na. by default true"
   ]
  },
  {
   "cell_type": "code",
   "execution_count": 8,
   "metadata": {},
   "outputs": [
    {
     "data": {
      "image/png": "[encoded data removed]",
      "text/plain": [
       "<Figure size 432x288 with 1 Axes>"
      ]
     },
     "metadata": {},
     "output_type": "display_data"
    }
   ],
   "source": [
    "# Graphical:\n",
    "%matplotlib inline\n",
    "import matplotlib.pyplot as plt\n",
    "\n",
    "x1 = np.linspace(1,5,num=10,endpoint=True)\n",
    "x2 = np.linspace(2,6,num=10,endpoint=False)\n",
    "y1 = np.zeros(10)\n",
    "plt.plot(x1,y1,'o')\n",
    "plt.plot(x2,y1 + 0.5,'o')\n",
    "plt.ylim([-0.5, 1]) # what is ylim, why it's use?\n",
    "plt.show()"
   ]
  },
  {
   "cell_type": "markdown",
   "metadata": {},
   "source": [
    "## numpy.logspace(start, stop, num=50, endpoint=True, base=10.0, dtype=None, axis=0)\n",
    "\n",
    " Return numbers spaced evenly on a log scale.\n",
    " In linear space, the sequence starts at base ** start (base to the power of start) and ends with base ** stop (see endpoint below).\n",
    " Changed in version 1.16.0: Non-scalar start and stop are now supported."
   ]
  },
  {
   "cell_type": "code",
   "execution_count": 34,
   "metadata": {},
   "outputs": [
    {
     "name": "stdout",
     "output_type": "stream",
     "text": [
      "[ 0.   2.5  5.   7.5 10. ]\n"
     ]
    }
   ],
   "source": [
    "y = np.linspace(0,10,num=5,endpoint=True)\n",
    "print(y)"
   ]
  },
  {
   "cell_type": "code",
   "execution_count": 40,
   "metadata": {},
   "outputs": [
    {
     "data": {
      "text/plain": [
       "array([ 100.        ,  215.443469  ,  464.15888336, 1000.        ])"
      ]
     },
     "execution_count": 40,
     "metadata": {},
     "output_type": "execute_result"
    }
   ],
   "source": [
    "np.logspace(2.0, 3.0, num=4)"
   ]
  },
  {
   "cell_type": "code",
   "execution_count": 41,
   "metadata": {},
   "outputs": [
    {
     "data": {
      "text/plain": [
       "array([   10.,   100.,  1000., 10000.])"
      ]
     },
     "execution_count": 41,
     "metadata": {},
     "output_type": "execute_result"
    }
   ],
   "source": [
    "np.logspace(1.0, 4.0, num=4)"
   ]
  },
  {
   "cell_type": "code",
   "execution_count": 43,
   "metadata": {},
   "outputs": [
    {
     "data": {
      "image/png": "[encoded data removed]",
      "text/plain": [
       "<Figure size 432x288 with 1 Axes>"
      ]
     },
     "metadata": {},
     "output_type": "display_data"
    }
   ],
   "source": [
    "import matplotlib.pyplot as plt\n",
    "N = 10\n",
    "x1 = np.logspace(0.1, 1, N, endpoint=True)\n",
    "x2 = np.logspace(0.1, 1, N, endpoint=False)\n",
    "y = np.zeros(N)\n",
    "plt.plot(x1, y, 'o')\n",
    "\n",
    "plt.plot(x2, y + 0.5, 'o')\n",
    "\n",
    "plt.ylim([-0.5, 1])\n",
    "\n",
    "plt.show()"
   ]
  },
  {
   "cell_type": "markdown",
   "metadata": {},
   "source": [
    "## numpy.geomspace(start, stop, num=50, endpoint=True, dtype=None, axis=0)\n",
    "\n",
    "Return numbers spaced evenly on a log scale (a geometric progression).\n",
    "\n",
    "This is similar to logspace, but with endpoints specified directly. Each output sample is a constant multiple of the previous."
   ]
  },
  {
   "cell_type": "code",
   "execution_count": 51,
   "metadata": {},
   "outputs": [
    {
     "data": {
      "text/plain": [
       "array([1.        , 1.25892541, 1.58489319, 1.99526231, 2.51188643,\n",
       "       3.16227766, 3.98107171, 5.01187234, 6.30957344, 7.94328235])"
      ]
     },
     "execution_count": 51,
     "metadata": {},
     "output_type": "execute_result"
    }
   ],
   "source": [
    "np.geomspace(1,10,num=10,endpoint=False)"
   ]
  },
  {
   "cell_type": "code",
   "execution_count": 48,
   "metadata": {},
   "outputs": [
    {
     "data": {
      "text/plain": [
       "array([  1.,   2.,   4.,   8.,  16.,  32.,  64., 128., 256.])"
      ]
     },
     "execution_count": 48,
     "metadata": {},
     "output_type": "execute_result"
    }
   ],
   "source": [
    "np.geomspace(1, 256, num=9) # first 2 number is constatnt . 3 number is squre of 2nd number."
   ]
  },
  {
   "cell_type": "code",
   "execution_count": 53,
   "metadata": {},
   "outputs": [
    {
     "data": {
      "text/plain": [
       "array([  1,   2,   4,   8,  16,  32,  64, 128, 256])"
      ]
     },
     "execution_count": 53,
     "metadata": {},
     "output_type": "execute_result"
    }
   ],
   "source": [
    "np.around(np.geomspace(1, 256, num=9)).astype(int)"
   ]
  },
  {
   "cell_type": "code",
   "execution_count": 64,
   "metadata": {},
   "outputs": [
    {
     "data": {
      "image/png": "[encoded data removed]",
      "text/plain": [
       "<Figure size 432x288 with 1 Axes>"
      ]
     },
     "metadata": {},
     "output_type": "display_data"
    }
   ],
   "source": [
    "x = np.arange(5)\n",
    "y = x\n",
    "plt.plot(x,y)\n",
    "plt.title('x = y and y=x')\n",
    "plt.plot(x,-y,'o--')\n",
    "plt.axis('off')\n",
    "plt.show()"
   ]
  },
  {
   "cell_type": "code",
   "execution_count": 73,
   "metadata": {},
   "outputs": [
    {
     "name": "stdout",
     "output_type": "stream",
     "text": [
      "[ 1.25892541  1.54881662  1.90546072  2.34422882  2.8840315   3.54813389\n",
      "  4.36515832  5.37031796  6.60693448  8.12830516 10.        ]\n"
     ]
    },
    {
     "data": {
      "image/png": "[encoded data removed]",
      "text/plain": [
       "<Figure size 432x288 with 1 Axes>"
      ]
     },
     "metadata": {},
     "output_type": "display_data"
    }
   ],
   "source": [
    "n = 11\n",
    "x = np.logspace(0.1,1,n)\n",
    "print(x)\n",
    "y = x\n",
    "plt.plot(x,y,'o')\n",
    "plt.title('logarithom space')\n",
    "plt.plot(x,-y,'o--')\n",
    "plt.show()"
   ]
  },
  {
   "cell_type": "code",
   "execution_count": 76,
   "metadata": {},
   "outputs": [
    {
     "name": "stdout",
     "output_type": "stream",
     "text": [
      "[  1.           1.60151975   2.5648655    4.10768274   6.57853503\n",
      "  10.53565375  16.87305753  27.02253482  43.27712312  69.30916726\n",
      " 111.        ]\n"
     ]
    },
    {
     "data": {
      "image/png": "[encoded data removed]",
      "text/plain": [
       "<Figure size 432x288 with 1 Axes>"
      ]
     },
     "metadata": {},
     "output_type": "display_data"
    }
   ],
   "source": [
    "n = 11\n",
    "y = np.geomspace(1,111,n)\n",
    "print(y)\n",
    "plt.plot(x,y,'o')\n",
    "plt.title('geometry space')\n",
    "plt.plot(x,-y,'o--')\n",
    "plt.show()"
   ]
  },
  {
   "cell_type": "markdown",
   "metadata": {},
   "source": [
    "### numpy.meshgrid(*xi, **kwargs)\n",
    "Return coordinate matrices from coordinate vectors.\n",
    "\n",
    "Make N-D coordinate arrays for vectorized evaluations of N-D scalar/vector fields over N-D grids, given one-dimensional coordinate arrays x1, x2,…, xn."
   ]
  },
  {
   "cell_type": "code",
   "execution_count": 7,
   "metadata": {},
   "outputs": [
    {
     "name": "stdout",
     "output_type": "stream",
     "text": [
      "x= [-4.  -2.5 -1.   0.5  2.   3.5  5.   6.5  8. ] y= [-5.         -3.44444444 -1.88888889 -0.33333333  1.22222222  2.77777778\n",
      "  4.33333333  5.88888889  7.44444444  9.        ]\n"
     ]
    }
   ],
   "source": [
    "x = np.linspace(-4,8,9)\n",
    "y = np.linspace(-5,9,10)\n",
    "print('x=',x,'y=',y)"
   ]
  },
  {
   "cell_type": "code",
   "execution_count": 13,
   "metadata": {},
   "outputs": [
    {
     "data": {
      "image/png": "[encoded data removed]",
      "text/plain": [
       "<Figure size 432x288 with 1 Axes>"
      ]
     },
     "metadata": {},
     "output_type": "display_data"
    }
   ],
   "source": [
    "plt.plot(x,'o',-y)\n",
    "plt.show()"
   ]
  },
  {
   "cell_type": "code",
   "execution_count": 15,
   "metadata": {},
   "outputs": [],
   "source": [
    "x = np.linspace(-4,8,9)\n",
    "y = np.linspace(-5,9,10)\n",
    "xx,yy = np.meshgrid(x,y)"
   ]
  },
  {
   "cell_type": "code",
   "execution_count": 16,
   "metadata": {},
   "outputs": [
    {
     "data": {
      "text/plain": [
       "array([[-4. , -2.5, -1. ,  0.5,  2. ,  3.5,  5. ,  6.5,  8. ],\n",
       "       [-4. , -2.5, -1. ,  0.5,  2. ,  3.5,  5. ,  6.5,  8. ],\n",
       "       [-4. , -2.5, -1. ,  0.5,  2. ,  3.5,  5. ,  6.5,  8. ],\n",
       "       [-4. , -2.5, -1. ,  0.5,  2. ,  3.5,  5. ,  6.5,  8. ],\n",
       "       [-4. , -2.5, -1. ,  0.5,  2. ,  3.5,  5. ,  6.5,  8. ],\n",
       "       [-4. , -2.5, -1. ,  0.5,  2. ,  3.5,  5. ,  6.5,  8. ],\n",
       "       [-4. , -2.5, -1. ,  0.5,  2. ,  3.5,  5. ,  6.5,  8. ],\n",
       "       [-4. , -2.5, -1. ,  0.5,  2. ,  3.5,  5. ,  6.5,  8. ],\n",
       "       [-4. , -2.5, -1. ,  0.5,  2. ,  3.5,  5. ,  6.5,  8. ],\n",
       "       [-4. , -2.5, -1. ,  0.5,  2. ,  3.5,  5. ,  6.5,  8. ]])"
      ]
     },
     "execution_count": 16,
     "metadata": {},
     "output_type": "execute_result"
    }
   ],
   "source": [
    "xx"
   ]
  },
  {
   "cell_type": "code",
   "execution_count": 17,
   "metadata": {},
   "outputs": [
    {
     "data": {
      "text/plain": [
       "array([[-5.        , -5.        , -5.        , -5.        , -5.        ,\n",
       "        -5.        , -5.        , -5.        , -5.        ],\n",
       "       [-3.44444444, -3.44444444, -3.44444444, -3.44444444, -3.44444444,\n",
       "        -3.44444444, -3.44444444, -3.44444444, -3.44444444],\n",
       "       [-1.88888889, -1.88888889, -1.88888889, -1.88888889, -1.88888889,\n",
       "        -1.88888889, -1.88888889, -1.88888889, -1.88888889],\n",
       "       [-0.33333333, -0.33333333, -0.33333333, -0.33333333, -0.33333333,\n",
       "        -0.33333333, -0.33333333, -0.33333333, -0.33333333],\n",
       "       [ 1.22222222,  1.22222222,  1.22222222,  1.22222222,  1.22222222,\n",
       "         1.22222222,  1.22222222,  1.22222222,  1.22222222],\n",
       "       [ 2.77777778,  2.77777778,  2.77777778,  2.77777778,  2.77777778,\n",
       "         2.77777778,  2.77777778,  2.77777778,  2.77777778],\n",
       "       [ 4.33333333,  4.33333333,  4.33333333,  4.33333333,  4.33333333,\n",
       "         4.33333333,  4.33333333,  4.33333333,  4.33333333],\n",
       "       [ 5.88888889,  5.88888889,  5.88888889,  5.88888889,  5.88888889,\n",
       "         5.88888889,  5.88888889,  5.88888889,  5.88888889],\n",
       "       [ 7.44444444,  7.44444444,  7.44444444,  7.44444444,  7.44444444,\n",
       "         7.44444444,  7.44444444,  7.44444444,  7.44444444],\n",
       "       [ 9.        ,  9.        ,  9.        ,  9.        ,  9.        ,\n",
       "         9.        ,  9.        ,  9.        ,  9.        ]])"
      ]
     },
     "execution_count": 17,
     "metadata": {},
     "output_type": "execute_result"
    }
   ],
   "source": [
    "yy"
   ]
  },
  {
   "cell_type": "code",
   "execution_count": 18,
   "metadata": {},
   "outputs": [
    {
     "data": {
      "text/plain": [
       "[<matplotlib.lines.Line2D at 0x7f7426083b70>,\n",
       " <matplotlib.lines.Line2D at 0x7f7426083cf8>,\n",
       " <matplotlib.lines.Line2D at 0x7f7426083e48>,\n",
       " <matplotlib.lines.Line2D at 0x7f7426083f98>,\n",
       " <matplotlib.lines.Line2D at 0x7f742600a128>,\n",
       " <matplotlib.lines.Line2D at 0x7f742600a278>,\n",
       " <matplotlib.lines.Line2D at 0x7f742600a3c8>,\n",
       " <matplotlib.lines.Line2D at 0x7f742600a518>,\n",
       " <matplotlib.lines.Line2D at 0x7f742600a668>]"
      ]
     },
     "execution_count": 18,
     "metadata": {},
     "output_type": "execute_result"
    },
    {
     "data": {
      "image/png": "[encoded data removed]",
      "text/plain": [
       "<Figure size 432x288 with 1 Axes>"
      ]
     },
     "metadata": {},
     "output_type": "display_data"
    }
   ],
   "source": [
    "plt.plot(xx,yy)"
   ]
  },
  {
   "cell_type": "code",
   "execution_count": 23,
   "metadata": {},
   "outputs": [
    {
     "data": {
      "image/png": "[encoded data removed]",
      "text/plain": [
       "<Figure size 432x288 with 1 Axes>"
      ]
     },
     "metadata": {},
     "output_type": "display_data"
    }
   ],
   "source": [
    "z = np.sin(xx**2 + yy**2) / (xx**2 + yy**2)\n",
    "plt.contourf(xx,yy,z)\n",
    "plt.show()"
   ]
  },
  {
   "cell_type": "code",
   "execution_count": 29,
   "metadata": {},
   "outputs": [],
   "source": [
    "# n = 10\n",
    "# x= np.arange(-6,6,1)\n",
    "# y = np.arange(-7,7,1)\n",
    "# xx,yy = np.meshgrid(xx,yy)\n",
    "# z = np.sin(xx**2 + yy**2) / (xx**2 + yy**2)\n",
    "# plt.contourf(xx,yy,z)\n",
    "# plt.show()"
   ]
  },
  {
   "cell_type": "code",
   "execution_count": null,
   "metadata": {},
   "outputs": [],
   "source": []
  }
 ],
 "metadata": {
  "kernelspec": {
   "display_name": "Python 3",
   "language": "python",
   "name": "python3"
  },
  "language_info": {
   "codemirror_mode": {
    "name": "ipython",
    "version": 3
   },
   "file_extension": ".py",
   "mimetype": "text/x-python",
   "name": "python",
   "nbconvert_exporter": "python",
   "pygments_lexer": "ipython3",
   "version": "3.6.8"
  }
 },
 "nbformat": 4,
 "nbformat_minor": 2
}
